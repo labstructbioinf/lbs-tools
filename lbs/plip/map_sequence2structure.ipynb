{
 "cells": [
  {
   "cell_type": "code",
   "execution_count": 6,
   "metadata": {},
   "outputs": [],
   "source": [
    "### initialize\n",
    "import plip_helper as plh\n",
    "import plip_sequences as pls\n",
    "import importlib\n",
    "MAX_GAPS = 0.2"
   ]
  },
  {
   "cell_type": "code",
   "execution_count": 2,
   "metadata": {},
   "outputs": [],
   "source": [
    "# set path to pdb database\n",
    "pdb_db_path = 'example_data/'"
   ]
  },
  {
   "cell_type": "code",
   "execution_count": 25,
   "metadata": {},
   "outputs": [],
   "source": [
    "# load list of pdbs to analyze & add db path\n",
    "pdb_list = [('1a27_A', 1, 41, 'RTVVLITGCSSGIGLHLAVRLASDPSQSFKVYATLRDLKT'), ('1a1s_A', 150, 187, 'TIKGVKVVYVGDGNNVAHSLMIAGTKLGADVVVATPE'),\n",
    "           ('1an9_A', 1, 38, 'RVVVIGAGVIGLSTALCIHERYHSVLQPLDVKVYADR'), ('1cyd_A', 3, 42, 'NFSGLRALVTGAGKGIGRDTVKALHASGAKVVAVTRTNS')]\n",
    "pdb_list = [ (pdb, pdb_db_path, MAX_GAPS) for pdb in pdb_list ]"
   ]
  },
  {
   "cell_type": "code",
   "execution_count": 27,
   "metadata": {},
   "outputs": [
    {
     "name": "stdout",
     "output_type": "stream",
     "text": [
      "RTVVLITGCSSGIGLHLAVRLASDPSQSFKVYATLRDLKT\n",
      "ARTVVLITGCSSGIGLHLAVRLASDPSQSFKVYATLRDLKTQGRLWEAARALACPPGSLETLQLDVRDSKSVAAARERVTEGRVDVLVCNAGLGLLGPLEALGEDAVASVLDVNVVGTVRMLQAFLPDMKRRGSGRVLVTGSVGGLMGLPFNDVYCASKFALEGLCESLAVLLLPFGVHLSLIECGPVHTAFMEKVLGSPEEVLDRTDIHTFHRFYQYLAHSKQVFREAAQNPEEVAEVFLTALRAPKPTLRYFTTERFLPLLRMRLDDPSGSNYVTAMHREVFG\n",
      "\n",
      "('ARTVVLITGCSSGIGLHLAVRLASDPSQSFKVYATLRDLKTQGRLWEAARALACPPGSLETLQLDVRDSKSVAAARERVTEGRVDVLVCNAGLGLLGPLEALGEDAVASVLDVNVVGTVRMLQAFLPDMKRRGSGRVLVTGSVGGLMGLPFNDVYCASKFALEGLCESLAVLLLPFGVHLSLIECGPVHTAFMEKVLGSPEEVLDRTDIHTFHRFYQYLAHSKQVFREAAQNPEEVAEVFLTALRAPKPTLRYFTTERFLPLLRMRLDDPSGSNYVTAMHREVFG', '-RTVVLITGCSSGIGLHLAVRLASDPSQSFKVYATLRDLKT----------------------------------------------------------------------------------------------------------------------------------------------------------------------------------------------------------------------------------------------------', 197.0, 1, 41)\n",
      "1\n",
      "244\n",
      "41\n",
      "[ True  True  True  True  True  True  True  True  True  True  True  True\n",
      "  True  True  True  True  True  True  True  True  True  True  True  True\n",
      "  True  True  True  True  True  True  True  True  True  True  True  True\n",
      "  True  True  True  True]\n"
     ]
    },
    {
     "data": {
      "text/plain": [
       "('1a27_A', 2, 41, 'RTVVLITGCSSGIGLHLAVRLASDPSQSFKVYATLRDLKT')"
      ]
     },
     "execution_count": 27,
     "metadata": {},
     "output_type": "execute_result"
    }
   ],
   "source": [
    "# example1: run on single file\n",
    "importlib.reload(pls)\n",
    "pls.run_mapper(('1a27_A', 1, 41, 'RTVVLITGCSSGIGLHLAVRLASDPSQSFKVYATLRDLKT'), pdb_db_path, MAX_GAPS)"
   ]
  },
  {
   "cell_type": "code",
   "execution_count": 35,
   "metadata": {
    "scrolled": true
   },
   "outputs": [
    {
     "name": "stdout",
     "output_type": "stream",
     "text": [
      "('ARTVVLITGCSSGIGLHLAVRLASDPSQSFKVYATLRDLKTQGRLWEAARALACPPGSLETLQLDVRDSKSVAAARERVTEGRVDVLVCNAGLGLLGPLEALGEDAVASVLDVNVVGTVRMLQAFLPDMKRRGSGRVLVTGSVGGLMGLPFNDVYCASKFALEGLCESLAVLLLPFGVHLSLIECGPVHTAFMEKVLGSPEEVLDRTDIHTFHRFYQYLAHSKQVFREAAQNPEEVAEVFLTALRAPKPTLRYFTTERFLPLLRMRLDDPSGSNYVTAMHREVFG', '-RTVVLITGCSSGIGLHLAVRLASDPSQSFKVYATLRDLKT----------------------------------------------------------------------------------------------------------------------------------------------------------------------------------------------------------------------------------------------------', 197.0, 1, 41)\n",
      "('MRVVVIGAGVIGLSTALCIHERYHSVLQPLDVKVYADRFTPFTTTDVAAGLWQPYTSEPSNPQEANWNQQTFNYLLSHIGSPNAANMGLTPVSGYNLFREAVPDPYWKDMVLGFRKLTPRELDMFPDYRYGWFNTSLILEGRKYLQWLTERLTERGVKFFLRKVESFEEVARGGADVIINCTGVWAGVLQPDPLLQPGRGQIIKVDAPWLKNFIITHDLERGIYNSPYIIPGLQAVTLGGTFQVGNWNEINNIQDHNTIWEGCCRLEPTLKDAKIVGEYTGFRPVRPQVRLEREQLRFGSSNTEVIHNYGHGGYGLTIHWGCALEVAKLFGKVLEERNLL', '-RVVVIGAGVIGLSTALCIHERYHSVLQPLDVKVYADR--------------------------------------------------------------------------------------------------------------------------------------------------------------------------------------------------------------------------------------------------------------------------------------------------------------', 187.0, 1, 38)\n",
      "('LNFSGLRALVTGAGKGIGRDTVKALHASGAKVVAVTRTNSDLVSLAKECPGIEPVCVDLGDWDATEKALGGIGPVDLLVNNAALVIMQPFLEVTKEAFDRSFSVNLRSVFQVSQMVARDMINRGVPGSIVNVSSMVAHVTFPNLITYSSTKGAMTMLTKAMAMELGPHKIRVNSVNPTVVLTDMGKKVSADPEFARKLKERHPLRKFAEVEDVVNSILFLLSDRSASTSGGGILVDAGYLAS', '-NFSGLRALVTGAGKGIGRDTVKALHASGAKVVAVTRTNS----------------------------------------------------------------------------------------------------------------------------------------------------------------------------------------------------------', 190.0, 1, 40)\n",
      "('VVSLAGRDLLCLQDYTAEEIWTILETAKMFKIWQKIGKPHRLLEGKTLAMIFQKPSTRTRVSFEVAMAHLGGHALYLNAQDLQLRRGETIADTARVLSRYVDAIMARVYDHKDVEDLAKYATVPVINGLSDFSHPCQALADYMTIWEKKGTIKGVKVVYVGDGNNVAHSLMIAGTKLGADVVVATPEGYEPDEKVIKWAEQNAAESGGSFELLHDPVKAVKDADVIYTDVWASMGQEAEAEERRKIFRPFQVNKDLVKHAKPDYMFMHCLPAHRGEEVTDDVIDSPNSVVWDQAENRLHAQKAVLALVMGGIK', '------------------------------------------------------------------------------------------------------------------------------------------------------TIKGVKVVYVGDGNNVAHSLMIAGTKLGADVVVATPE------------------------------------------------------------------------------------------------------------------------------', 184.0, 150, 187)\n",
      "4\n"
     ]
    }
   ],
   "source": [
    "# example2: run with multiprocess on list of files\n",
    "importlib.reload(pls)\n",
    "sequences_pdb = []\n",
    "\n",
    "for job in plh.run_multiprocess(pls.run_mapper, pdb_list, n_cores=2):\n",
    "    if job[0]:\n",
    "        sequences_pdb.append(job)\n",
    "        #print(job)\n",
    "    else:\n",
    "        print(job)\n",
    "        \n",
    "print(len(sequences_pdb))"
   ]
  },
  {
   "cell_type": "code",
   "execution_count": 116,
   "metadata": {},
   "outputs": [
    {
     "data": {
      "text/plain": [
       "('1cjc_A',\n",
       " {6: 'T',\n",
       "  7: 'P',\n",
       "  8: 'Q',\n",
       "  9: 'I',\n",
       "  10: 'C',\n",
       "  11: 'V',\n",
       "  12: 'V',\n",
       "  13: 'G',\n",
       "  14: 'S',\n",
       "  15: 'G',\n",
       "  16: 'P',\n",
       "  17: 'A',\n",
       "  18: 'G',\n",
       "  19: 'F',\n",
       "  20: 'Y',\n",
       "  21: 'T',\n",
       "  22: 'A',\n",
       "  23: 'Q',\n",
       "  24: 'H',\n",
       "  25: 'L',\n",
       "  26: 'L',\n",
       "  27: 'K',\n",
       "  28: 'H',\n",
       "  29: 'H',\n",
       "  30: 'S',\n",
       "  31: 'R',\n",
       "  32: 'A',\n",
       "  33: 'H',\n",
       "  34: 'V',\n",
       "  35: 'D',\n",
       "  36: 'I',\n",
       "  37: 'Y',\n",
       "  38: 'E',\n",
       "  39: 'K',\n",
       "  40: 'Q',\n",
       "  41: 'L',\n",
       "  42: 'V'})"
      ]
     },
     "execution_count": 116,
     "metadata": {},
     "output_type": "execute_result"
    }
   ],
   "source": [
    "# example1: run on single file\n",
    "importlib.reload(pls)\n",
    "pls.run_mapper(('1cjc_A', 2, 42, 'QEQTPQICVVGSGPAGFYTAQHLLKHHSRAHVDIYEKQLV'), pdb_db_path, MAX_GAPS)"
   ]
  },
  {
   "cell_type": "code",
   "execution_count": 113,
   "metadata": {},
   "outputs": [
    {
     "data": {
      "text/plain": [
       "('1db3_A',\n",
       " {2: 'K',\n",
       "  3: 'V',\n",
       "  4: 'A',\n",
       "  5: 'L',\n",
       "  6: 'I',\n",
       "  7: 'T',\n",
       "  8: 'G',\n",
       "  9: 'V',\n",
       "  10: 'T',\n",
       "  11: 'G',\n",
       "  12: 'Q',\n",
       "  13: 'D',\n",
       "  14: 'G',\n",
       "  15: 'S',\n",
       "  16: 'Y',\n",
       "  17: 'L',\n",
       "  18: 'A',\n",
       "  19: 'E',\n",
       "  20: 'F',\n",
       "  21: 'L',\n",
       "  22: 'L',\n",
       "  23: 'E',\n",
       "  24: 'K',\n",
       "  25: 'G',\n",
       "  26: 'Y',\n",
       "  27: 'E',\n",
       "  28: 'V',\n",
       "  29: 'H',\n",
       "  30: 'G',\n",
       "  31: 'I',\n",
       "  32: 'K',\n",
       "  33: 'R'})"
      ]
     },
     "execution_count": 113,
     "metadata": {},
     "output_type": "execute_result"
    }
   ],
   "source": [
    "# example1: run on single file\n",
    "importlib.reload(pls)\n",
    "pls.run_mapper(('1db3_A', 1, 35, 'KVALITGVTGQDGSYLAEFLLEKGYEVHGIKRRA'), pdb_db_path, MAX_GAPS)"
   ]
  },
  {
   "cell_type": "code",
   "execution_count": 65,
   "metadata": {},
   "outputs": [
    {
     "name": "stdout",
     "output_type": "stream",
     "text": [
      "('VVSLAGRDLLCLQDYTAEEIWTILETAKMFKIWQKIGKPHRLLEGKTLAMIFQKPSTRTRVSFEVAMAHLGGHALYLNAQDLQLRRGETIADTARVLSRYVDAIMARVYDHKDVEDLAKYATVPVINGLSDFSHPCQALADYMTIWEKKGTIKGVKVVYVGDGNNVAHSLMIAGTKLGADVVVATPEGYEPDEKVIKWAEQNAAESGGSFELLHDPVKAVKDADVIYTDVWASMGQEAEAEERRKIFRPFQVNKDLVKHAKPDYMFMHCLPAHRGEEVTDDVIDSPNSVVWDQAENRLHAQKAVLALVMGGIK', '------------------------------------------------------------------------------------------------------------------------------------------------------TIKGVKVVYVGDGNNVAHSLMIAGTKLGADVVVATPE------------------------------------------------------------------------------------------------------------------------------', 184.0, 150, 187)\n",
      "150 187\n",
      "start idx: 1\n",
      "150\n",
      "{151: 'T', 152: 'I', 153: 'K', 154: 'G', 155: 'V', 156: 'K', 157: 'V', 158: 'V', 159: 'Y', 160: 'V', 161: 'G', 162: 'D', 163: 'G', 164: 'N', 165: 'N', 166: 'V', 167: 'A', 168: 'H', 169: 'S', 170: 'L', 171: 'M', 172: 'I', 173: 'A', 174: 'G', 175: 'T', 176: 'K', 177: 'L', 178: 'G', 179: 'A', 180: 'D', 181: 'V', 182: 'V', 183: 'V', 184: 'A', 185: 'T', 186: 'P', 187: 'E'}\n"
     ]
    },
    {
     "data": {
      "text/plain": [
       "('1a1s_A', 151, 187, 'TIKGVKVVYVGDGNNVAHSLMIAGTKLGADVVVATPE')"
      ]
     },
     "execution_count": 65,
     "metadata": {},
     "output_type": "execute_result"
    }
   ],
   "source": [
    "# example1: run on single file\n",
    "importlib.reload(pls)\n",
    "pls.run_mapper(('1a1s_A', 150, 187, 'TIKGVKVVYVGDGNNVAHSLMIAGTKLGADVVVATPE'), pdb_db_path, MAX_GAPS)"
   ]
  },
  {
   "cell_type": "code",
   "execution_count": 40,
   "metadata": {},
   "outputs": [
    {
     "name": "stdout",
     "output_type": "stream",
     "text": [
      "('MRVVVIGAGVIGLSTALCIHERYHSVLQPLDVKVYADRFTPFTTTDVAAGLWQPYTSEPSNPQEANWNQQTFNYLLSHIGSPNAANMGLTPVSGYNLFREAVPDPYWKDMVLGFRKLTPRELDMFPDYRYGWFNTSLILEGRKYLQWLTERLTERGVKFFLRKVESFEEVARGGADVIINCTGVWAGVLQPDPLLQPGRGQIIKVDAPWLKNFIITHDLERGIYNSPYIIPGLQAVTLGGTFQVGNWNEINNIQDHNTIWEGCCRLEPTLKDAKIVGEYTGFRPVRPQVRLEREQLRFGSSNTEVIHNYGHGGYGLTIHWGCALEVAKLFGKVLEERNLL', '-RVVVIGAGVIGLSTALCIHERYHSVLQPLDVKVYADR--------------------------------------------------------------------------------------------------------------------------------------------------------------------------------------------------------------------------------------------------------------------------------------------------------------', 187.0, 1, 38)\n",
      "1 38\n",
      "R V\n"
     ]
    },
    {
     "data": {
      "text/plain": [
       "('1an9_A', 2, 38, 'RVVVIGAGVIGLSTALCIHERYHSVLQPLDVKVYADR')"
      ]
     },
     "execution_count": 40,
     "metadata": {},
     "output_type": "execute_result"
    }
   ],
   "source": [
    "# example1: run on single file\n",
    "importlib.reload(pls)\n",
    "pls.run_mapper(('1an9_A', 1, 38, 'RVVVIGAGVIGLSTALCIHERYHSVLQPLDVKVYADR'), pdb_db_path, MAX_GAPS)"
   ]
  },
  {
   "cell_type": "code",
   "execution_count": 110,
   "metadata": {},
   "outputs": [
    {
     "name": "stdout",
     "output_type": "stream",
     "text": [
      "('LNFSGLRALVTGAGKGIGRDTVKALHASGAKVVAVTRTNSDLVSLAKECPGIEPVCVDLGDWDATEKALGGIGPVDLLVNNAALVIMQPFLEVTKEAFDRSFSVNLRSVFQVSQMVARDMINRGVPGSIVNVSSMVAHVTFPNLITYSSTKGAMTMLTKAMAMELGPHKIRVNSVNPTVVLTDMGKKVSADPEFARKLKERHPLRKFAEVEDVVNSILFLLSDRSASTSGGGILVDAGYLAS', '-NFSGLRALVTGAGKGIGRDTVKALHASGAKVVAVTRTNS----------------------------------------------------------------------------------------------------------------------------------------------------------------------------------------------------------', 190.0, 1, 40)\n",
      "N N\n",
      "F F\n",
      "S S\n",
      "G G\n",
      "L L\n",
      "R R\n",
      "A A\n",
      "L L\n",
      "V V\n",
      "T T\n",
      "G G\n",
      "A A\n",
      "G G\n",
      "K K\n",
      "G G\n",
      "I I\n",
      "G G\n",
      "R R\n",
      "D D\n",
      "T T\n",
      "V V\n",
      "K K\n",
      "A A\n",
      "L L\n",
      "H H\n",
      "A A\n",
      "S S\n",
      "G G\n",
      "A A\n",
      "K K\n",
      "V V\n",
      "V V\n",
      "A A\n",
      "V V\n",
      "T T\n",
      "R R\n",
      "T T\n",
      "N N\n",
      "S S\n",
      "NFSGLRALVTGAGKGIGRDTVKALHASGAKVVAVTRTNS\n"
     ]
    },
    {
     "data": {
      "text/plain": [
       "('1cyd_A',\n",
       " {4: 'N',\n",
       "  5: 'F',\n",
       "  6: 'S',\n",
       "  7: 'G',\n",
       "  8: 'L',\n",
       "  9: 'R',\n",
       "  10: 'A',\n",
       "  11: 'L',\n",
       "  12: 'V',\n",
       "  13: 'T',\n",
       "  14: 'G',\n",
       "  15: 'A',\n",
       "  16: 'G',\n",
       "  17: 'K',\n",
       "  18: 'G',\n",
       "  19: 'I',\n",
       "  20: 'G',\n",
       "  21: 'R',\n",
       "  22: 'D',\n",
       "  23: 'T',\n",
       "  24: 'V',\n",
       "  25: 'K',\n",
       "  26: 'A',\n",
       "  27: 'L',\n",
       "  28: 'H',\n",
       "  29: 'A',\n",
       "  30: 'S',\n",
       "  31: 'G',\n",
       "  32: 'A',\n",
       "  33: 'K',\n",
       "  34: 'V',\n",
       "  35: 'V',\n",
       "  36: 'A',\n",
       "  37: 'V',\n",
       "  38: 'T',\n",
       "  39: 'R',\n",
       "  40: 'T',\n",
       "  41: 'N',\n",
       "  42: 'S'})"
      ]
     },
     "execution_count": 110,
     "metadata": {},
     "output_type": "execute_result"
    }
   ],
   "source": [
    "# example1: run on single file\n",
    "importlib.reload(pls)\n",
    "pls.run_mapper(('1cyd_A', 3, 42, 'NFSGLRALVTGAGKGIGRDTVKALHASGAKVVAVTRTNS'), pdb_db_path, MAX_GAPS)"
   ]
  },
  {
   "cell_type": "code",
   "execution_count": 109,
   "metadata": {},
   "outputs": [
    {
     "name": "stdout",
     "output_type": "stream",
     "text": [
      "('RWSLKGTTALVTGGSKGIGYAIVEELAGLGARVYTCSRNEKELDECLEIWREKGLNVEGSVCDLLSRTERDKLMQTVAHVFDGKLNILVNNAGVVIHKEAKDFTEKDYNIIMGTNFEAAYHLSQIAYPLLKASQNGNVIFLSSIAGFSALPSVSLYSASKGAINQMTKSLACEWAKDNIRVNSVAPGVILXXXXXXXXXXXXXQKEEIDNFIVKTPMGRAGKPQEVSALIAFLCFPAASYITGQIIWADGGFTANGGF', '--SLKGTTALVTGGSKGIGYAIVEELAGLGARVYTCSRN---------------------------------------------------------------------------------------------------------------------------------------------------------------------------------------------------------------------------', 185.0, 2, 39)\n",
      "S S\n",
      "L L\n",
      "K K\n",
      "G G\n",
      "T T\n",
      "T T\n",
      "A A\n",
      "L L\n",
      "V V\n",
      "T T\n",
      "G G\n",
      "G G\n",
      "S S\n",
      "K K\n",
      "G G\n",
      "I I\n",
      "G G\n",
      "Y Y\n",
      "A A\n",
      "I I\n",
      "V V\n",
      "E E\n",
      "E E\n",
      "L L\n",
      "A A\n",
      "G G\n",
      "L L\n",
      "G G\n",
      "A A\n",
      "R R\n",
      "V V\n",
      "Y Y\n",
      "T T\n",
      "C C\n",
      "S S\n",
      "R R\n",
      "N N\n",
      "SLKGTTALVTGGSKGIGYAIVEELAGLGARVYTCSRN\n"
     ]
    },
    {
     "data": {
      "text/plain": [
       "('1ae1_A',\n",
       " {18: 'S',\n",
       "  19: 'L',\n",
       "  20: 'K',\n",
       "  21: 'G',\n",
       "  22: 'T',\n",
       "  23: 'T',\n",
       "  24: 'A',\n",
       "  25: 'L',\n",
       "  26: 'V',\n",
       "  27: 'T',\n",
       "  28: 'G',\n",
       "  29: 'G',\n",
       "  30: 'S',\n",
       "  31: 'K',\n",
       "  32: 'G',\n",
       "  33: 'I',\n",
       "  34: 'G',\n",
       "  35: 'Y',\n",
       "  36: 'A',\n",
       "  37: 'I',\n",
       "  38: 'V',\n",
       "  39: 'E',\n",
       "  40: 'E',\n",
       "  41: 'L',\n",
       "  42: 'A',\n",
       "  43: 'G',\n",
       "  44: 'L',\n",
       "  45: 'G',\n",
       "  46: 'A',\n",
       "  47: 'R',\n",
       "  48: 'V',\n",
       "  49: 'Y',\n",
       "  50: 'T',\n",
       "  51: 'C',\n",
       "  52: 'S',\n",
       "  53: 'R',\n",
       "  54: 'N'})"
      ]
     },
     "execution_count": 109,
     "metadata": {},
     "output_type": "execute_result"
    }
   ],
   "source": [
    "# example1: run on single file\n",
    "importlib.reload(pls)\n",
    "pls.run_mapper(('1ae1_A', 17, 54, 'SLKGTTALVTGGSKGIGYAIVEELAGLGARVYTCSRN'), pdb_db_path, MAX_GAPS)"
   ]
  },
  {
   "cell_type": "code",
   "execution_count": 114,
   "metadata": {},
   "outputs": [
    {
     "name": "stdout",
     "output_type": "stream",
     "text": [
      "{}\n"
     ]
    },
    {
     "data": {
      "text/plain": [
       "('1lnq_A',\n",
       " {116: 'R',\n",
       "  117: 'H',\n",
       "  118: 'V',\n",
       "  119: 'V',\n",
       "  120: 'I',\n",
       "  121: 'C',\n",
       "  122: 'G',\n",
       "  123: 'W',\n",
       "  124: 'S',\n",
       "  125: 'E',\n",
       "  126: 'S',\n",
       "  127: 'T',\n",
       "  128: 'L',\n",
       "  129: 'E',\n",
       "  130: 'C',\n",
       "  131: 'L',\n",
       "  132: 'R',\n",
       "  133: 'E',\n",
       "  134: 'L',\n",
       "  135: 'R',\n",
       "  136: 'G',\n",
       "  137: 'S',\n",
       "  138: 'E',\n",
       "  139: 'V',\n",
       "  140: 'F',\n",
       "  141: 'V',\n",
       "  142: 'L',\n",
       "  143: 'A',\n",
       "  144: 'E',\n",
       "  145: 'D',\n",
       "  146: 'E',\n",
       "  147: 'N'})"
      ]
     },
     "execution_count": 114,
     "metadata": {},
     "output_type": "execute_result"
    }
   ],
   "source": [
    "# example1: run on single file\n",
    "importlib.reload(pls)\n",
    "pls.run_mapper(('1lnq_A', 112, 147, 'AKSRHVVICGWSESTLECLRELRGSEVFVLAEDEN'), pdb_db_path, MAX_GAPS)"
   ]
  },
  {
   "cell_type": "code",
   "execution_count": 123,
   "metadata": {},
   "outputs": [
    {
     "name": "stdout",
     "output_type": "stream",
     "text": [
      "('LYFQSMXXXXXXXXXXXXXXXXXXXXXXXXXXXXXXXXXXXXXXXXXXXXAWVIDKYGKNEVLRFTQNMMMPIIHYPNEVIVKVHAASVNPIDVNMRSGYGATALNMKRDPLHVKIKGEEFPLTLGRDVSGVVMECGLDVKYFKPGDEVWAAVPPWKQGTLSEFVVVSGNEVSHKPKSLTHTQAASLPYVALTAWSAINKVGGLNDKNCTGKRVLILGASGGVGTFAIQVMKAWDAHVTAVCSQDASELVRKLGADDVIDYKSGSVEEQLKSLKPFDFILDNVGGSTETWAPDFLKKWSGATYVTLVTPFLLNMDRLGIADGMLQTGVTVGSKALKHFWKGVHYRWAFFMASGPCLDDIAELVDAGKIRPVIEQTFPFSKVPEAFLKVERGHARGKTVINVV', '---------------------------------------------------------------------------------------------------------------------------------------------------------------------------------------------------------------NCTGKRVLILGASGGVGTFAIQVMKAWDAHVTAVCSQD-------------------------------------------------------------------------------------------------------------------------------------------------------------', 200.0, 207, 245)\n",
      "207 6\n"
     ]
    },
    {
     "ename": "ZeroDivisionError",
     "evalue": "division by zero",
     "output_type": "error",
     "traceback": [
      "\u001b[0;31m---------------------------------------------------------------------------\u001b[0m",
      "\u001b[0;31mZeroDivisionError\u001b[0m                         Traceback (most recent call last)",
      "\u001b[0;32m<ipython-input-123-47dd91bfcc5b>\u001b[0m in \u001b[0;36m<module>\u001b[0;34m()\u001b[0m\n\u001b[1;32m      1\u001b[0m \u001b[0;31m# example1: run on single file\u001b[0m\u001b[0;34m\u001b[0m\u001b[0;34m\u001b[0m\u001b[0m\n\u001b[1;32m      2\u001b[0m \u001b[0mimportlib\u001b[0m\u001b[0;34m.\u001b[0m\u001b[0mreload\u001b[0m\u001b[0;34m(\u001b[0m\u001b[0mpls\u001b[0m\u001b[0;34m)\u001b[0m\u001b[0;34m\u001b[0m\u001b[0m\n\u001b[0;32m----> 3\u001b[0;31m \u001b[0mpls\u001b[0m\u001b[0;34m.\u001b[0m\u001b[0mrun_mapper\u001b[0m\u001b[0;34m(\u001b[0m\u001b[0;34m(\u001b[0m\u001b[0;34m'2vn8_A'\u001b[0m\u001b[0;34m,\u001b[0m \u001b[0;36m180\u001b[0m\u001b[0;34m,\u001b[0m \u001b[0;36m218\u001b[0m\u001b[0;34m,\u001b[0m \u001b[0;34m'NCTGKRVLILGASGGVGTFAIQVMKAWDAHVTAVCSQD'\u001b[0m\u001b[0;34m)\u001b[0m\u001b[0;34m,\u001b[0m \u001b[0mpdb_db_path\u001b[0m\u001b[0;34m,\u001b[0m \u001b[0mMAX_GAPS\u001b[0m\u001b[0;34m)\u001b[0m\u001b[0;34m\u001b[0m\u001b[0m\n\u001b[0m",
      "\u001b[0;32m~/Code/PiPred/plip_sequences.py\u001b[0m in \u001b[0;36mrun_mapper\u001b[0;34m(pdb, pdb_db_path, max_gaps)\u001b[0m\n\u001b[1;32m    159\u001b[0m         \u001b[0;31m# reject sequences with too many gaps\u001b[0m\u001b[0;34m\u001b[0m\u001b[0;34m\u001b[0m\u001b[0m\n\u001b[1;32m    160\u001b[0m         \u001b[0mprint\u001b[0m\u001b[0;34m(\u001b[0m\u001b[0mi_corrected_to_X\u001b[0m\u001b[0;34m,\u001b[0m \u001b[0mj_corrected_to_X\u001b[0m\u001b[0;34m)\u001b[0m\u001b[0;34m\u001b[0m\u001b[0m\n\u001b[0;32m--> 161\u001b[0;31m         \u001b[0;32mif\u001b[0m \u001b[0maln\u001b[0m\u001b[0;34m[\u001b[0m\u001b[0;36m1\u001b[0m\u001b[0;34m]\u001b[0m\u001b[0;34m[\u001b[0m\u001b[0mi_corrected_to_X\u001b[0m\u001b[0;34m:\u001b[0m\u001b[0mj_corrected_to_X\u001b[0m\u001b[0;34m]\u001b[0m\u001b[0;34m.\u001b[0m\u001b[0mcount\u001b[0m\u001b[0;34m(\u001b[0m\u001b[0;34m'-'\u001b[0m\u001b[0;34m)\u001b[0m \u001b[0;34m/\u001b[0m \u001b[0mlen\u001b[0m\u001b[0;34m(\u001b[0m\u001b[0maln\u001b[0m\u001b[0;34m[\u001b[0m\u001b[0;36m1\u001b[0m\u001b[0;34m]\u001b[0m\u001b[0;34m[\u001b[0m\u001b[0mi_corrected_to_X\u001b[0m\u001b[0;34m:\u001b[0m\u001b[0mj_corrected_to_X\u001b[0m\u001b[0;34m]\u001b[0m\u001b[0;34m)\u001b[0m \u001b[0;34m<\u001b[0m \u001b[0mmax_gaps\u001b[0m\u001b[0;34m:\u001b[0m\u001b[0;34m\u001b[0m\u001b[0m\n\u001b[0m\u001b[1;32m    162\u001b[0m                 \u001b[0;32mreturn\u001b[0m \u001b[0;34m(\u001b[0m\u001b[0mpdb\u001b[0m\u001b[0;34m[\u001b[0m\u001b[0;36m0\u001b[0m\u001b[0;34m]\u001b[0m\u001b[0;34m,\u001b[0m \u001b[0mpdbseq2rosseq\u001b[0m\u001b[0;34m)\u001b[0m\u001b[0;34m\u001b[0m\u001b[0m\n\u001b[1;32m    163\u001b[0m         \u001b[0;32melse\u001b[0m\u001b[0;34m:\u001b[0m\u001b[0;34m\u001b[0m\u001b[0m\n",
      "\u001b[0;31mZeroDivisionError\u001b[0m: division by zero"
     ]
    }
   ],
   "source": [
    "# example1: run on single file\n",
    "importlib.reload(pls)\n",
    "pls.run_mapper(('2vn8_A', 180, 218, 'NCTGKRVLILGASGGVGTFAIQVMKAWDAHVTAVCSQD'), pdb_db_path, MAX_GAPS)"
   ]
  },
  {
   "cell_type": "code",
   "execution_count": 2,
   "metadata": {},
   "outputs": [],
   "source": [
    "# open Rossmann file list\n",
    "\n",
    "# in multiprocess: for each Rosmmann in list:\n",
    "# find pdb\n",
    "# align pdb with rossmann\n",
    "# if there is no too many gaps: pass and return res id in pdb"
   ]
  },
  {
   "cell_type": "code",
   "execution_count": 119,
   "metadata": {},
   "outputs": [
    {
     "data": {
      "text/plain": [
       "[('2ldx_A', 15, 54, 'KLSRCKITVVGVGDVGMACAISILLKGLADELALVDADT'),\n",
       " ('2nlo_A', 142, 179, 'NAKLDSVVQVGAGGVGNAVAYALVTHGVQKLQVADLD'),\n",
       " ('2nm0_A', 17, 54, 'SHMSRSVLVTGGNRGIGLAIARAFADAGDKVAITYRS'),\n",
       " ('2nvk_X', 6, 43, 'SYDYDLIVIGGGSAGLACAKEAVLNGARVACLDFVKP'),\n",
       " ('2nvk_X', 184, 221, 'REPGKTLVVGAGYIGLECAGFLKGLGYEPTVMVRSIV'),\n",
       " ('2nvu_B', 407, 444, 'LLDTCKVLVIGAGGLGCELLKNLALSGFRQIHVIDMD'),\n",
       " ('2nvw_A', 106, 148, 'KDIDMIVVSVKVPEHYEVVKNILEHSSQNLNLRYLYVEWALA'),\n",
       " ('2nwq_A', 17, 54, 'SHMSSTLFITGATSGFGEACARRFAEAGWSLVLTGRR'),\n",
       " ('2nyu_A', 19, 66, 'LRPGLRVLDCGAAPGAWSQVAVQKVNAAGTDPSSPVGFVLGVDLLHI'),\n",
       " ('2o05_A', 92, 129, 'HPNPRKVLIIGGGDGGVLREVVKHPSVESVVQCEIDE'),\n",
       " ('2o2s_A', 5, 44, 'DLRGQTAFVAGVADSHGYGWAIAKHLASAGARVALGTWP'),\n",
       " ('2o3j_A', 5, 43, 'FGKVSKVVCVGAGYVGGPTCAMIAHKCPHITVTVVDMN'),\n",
       " ('2o3j_A', 331, 377, 'TVTDKKIAIFGFAFKKNTGDTRESSAIHVIKHLMEEHAKLSVYDPK'),\n",
       " ('2o48_X', 1, 38, 'ALRWGIVSVGLISSDFTAVLQTLPRSEHQVVAVAARD'),\n",
       " ('2o4c_A', 112, 149, 'DLAERTYGVVGAGQVGGRLVEVLRGLGWKVLVCDPPR'),\n",
       " ('2o57_A', 79, 116, 'LQRQAKGLDLGAGYGGAARFLVRKFGVSIDCLNIAPV'),\n",
       " ('2obn_A', 4, 45, 'PLNQRVAILLHEGTTGTIGKTGLALLRYSEAPIVAVIDRNC'),\n",
       " ('2okc_A', 169, 219, 'QMGETVCDPACGTGGFLLTAYDYMKGQSASKEKRDFLRDKALHGVDNTPL'),\n",
       " ('2oln_A', 1, 38, 'TESYDVVVVGGGPVGLATAWQVAERGHRVLVLERHTF'),\n",
       " ('2ome_A', 148, 185, 'RIRGETLGLIGFGRTGQAVAVRAKAFGFSVIFYDPYL'),\n",
       " ('2oxt_A', 72, 109, 'ELTGRVVDLGCGRGGWSYYAASRPHVMDVRAYTLGVG'),\n",
       " ('2oy0_A', 66, 103, 'EPVGKVIDLGCGRGGWCYYMATQKRVQEVRGYTKGGP'),\n",
       " ('2oyr_A', 86, 121, 'DYLPDVVDATAGLGRDAFVLASVGCRVRMLERNPV'),\n",
       " ('2ozp_A', 1, 41, 'TGKKTLSIVGASGYAGGEFLRLALSHPYLEVKQVTSRRFA'),\n",
       " ('2ozv_A', 33, 71, 'DDRACRIADLGAGAGAAGMAVAARLEKAEVTLYERSQE'),\n",
       " ('2p2s_A', 2, 38, 'KKIRFAAIGLAHNHIYDMCQQLIDAGAELAGVFESD'),\n",
       " ('2p35_A', 31, 68, 'ERVLNGYDLGCGPGNSTELLTDRYGVNVITGIDSDDD'),\n",
       " ('2p4h_X', 1, 35, 'GRVCVTGGTGFLGSWIIKSLLENGYSVNTTIRAD'),\n",
       " ('2p4q_A', 7, 44, 'HMSADFGLIGLAVMGQNLILNAADHGFTVCAYNRTQS'),\n",
       " ('2p5u_A', 1, 34, 'RVLVTGGAGFIGSHIVEDLLARGLEVAVLDNLA'),\n",
       " ('2p68_A', 3, 40, 'KLQGKVSLVTGSTRGIGRAIAEKLASAGSTVIITGTS'),\n",
       " ('2p7h_A', 40, 75, 'FRPGNLLELGSFKGDFTSRLQEHFNDITCVEASEE'),\n",
       " ('2p8j_A', 21, 57, 'NLDKTVLDCGAGGDLPPLSIFVEDGYKTYGIEISDL'),\n",
       " ('2p91_A', 17, 56, 'LLEGKRALITGVANERSIAYGIAKSFHREGAQLAFTYAT'),\n",
       " ('2pbf_A', 78, 120, 'KPGSRAIDVGSGSGYLTVCMAIKMNVLENKNSYVIGLERVKD'),\n",
       " ('2pbz_A', 1, 34, 'SLIVSTIASHSSLQILLGAKKEGFKTRLYVSPK'),\n",
       " ('2pd3_A', 2, 41, 'FLKGKKGLIVGVANNKSIAYGIAQSCFNQGATLAFTYLN'),\n",
       " ('2pd6_A', 3, 42, 'RLRSALALVTGAGSGIGRAVSVRLAGEGATVAACDLDRA'),\n",
       " ('2ph3_A', 1, 35, 'RKALITGASRGIGRAIALRLAEDGFALAIHYGQN'),\n",
       " ('2ph5_A', 9, 49, 'ILFKNRFVILGFGCVGQALMPLIFEKFDIKPSQVTIIAAE'),\n",
       " ('2pjd_A', 194, 231, 'HTKGKVLDVGCGAGVLSVAFARHSPKIRLTLCDVSAP'),\n",
       " ('2pk3_A', 8, 46, 'HHGSMRALITGVAGFVGKYLANHLTEQNVEVFGTSRNN'),\n",
       " ('2pkq_O', 1, 37, 'LKVAINGFGRIGRNFLRCWHGRKDSPLDVVVVNDSG'),\n",
       " ('2pla_A', 1, 44, 'AAAPLKVCIVGSGNWGSAVAKIIGNNVKKLQKFASTVKMWVFE'),\n",
       " ('2plw_A', 19, 59, 'LKKNKIILDIGCYPGSWCQVILERTKNYKNKIIGIDKKIM'),\n",
       " ('2pn1_A', 1, 38, 'MQKPHLLITSAGRRAKLVEYFVKEFKTGRVSTADCSP'),\n",
       " ('2pss_A', 113, 150, 'SKEPKNVLVVGGGDGGIIRELCKYKSVENIDICEIDE'),\n",
       " ('2ptg_A', 5, 44, 'DLRGKTAFVAGVADSNGYGWAICKLLRAAGARVLVGTWP'),\n",
       " ('2pv7_A', 63, 101, 'ANADVVIVSVPINLTLETIERLKPYLTENMLLADLTSV'),\n",
       " ('2pwy_A', 93, 132, 'LAPGMRVLEAGTGSGGLTLFLARAVGEKGLVESYEARPH'),\n",
       " ('2px2_A', 71, 108, 'QPIGKVVDLGCGRGGWSYYAATMKNVQEVRGYTKGGP'),\n",
       " ('2pxx_A', 40, 76, 'RPEDRILVLGCGNSALSYELFLGGFPNVTSVDYSSV'),\n",
       " ('2py6_A', 224, 263, 'SDSEKMVDCGASIGESLAGLIGVTKGKFERVWMIEPDRI'),\n",
       " ('2pyx_A', 3, 51, 'QKPITEIIIVGGGTAGWITAGLLAAEHNVDKGVLAHSPKLNITLIESP'),\n",
       " ('2pzj_A', 28, 66, 'KLANTNVMVVGGAGFVGSNLVKRLLELGVNQVHVVDNL'),\n",
       " ('2pzk_A', 16, 53, 'RGSHMRILITGGAGCLGSNLIEHWLPQGHEILVIDNF'),\n",
       " ('2q0k_A', 1, 37, 'IDCAIIGGGPAGLSAGLYATRGGVKNAVLFEKGMPG'),\n",
       " ('2q0k_A', 139, 175, 'FYKNKEVAVLGGGDTAVEEAIYLANICKKVYLIHRR'),\n",
       " ('2q1w_A', 17, 54, 'GSHMKKVFITGICGQIGSHIAELLLERGDKVVGIDNF'),\n",
       " ('2q2q_A', 1, 37, 'LKGKTALVTGSTSGIGLGIAQVLARAGANIVLNGFG'),\n",
       " ('2q3e_A', 2, 41, 'FEIKKICCIGAGYVGGPTCSVIAHMCPEIRVTVVDVNES'),\n",
       " ('2q3e_A', 325, 371, 'TVTDKKIAILGFAFKKDTGDTRESSSIYISKYLMDEGAHLHIYDPK'),\n",
       " ('2q7v_A', 5, 42, 'AHDYDVVIIGGGPAGLTAAIYTGRAQLSTLILEKGMP'),\n",
       " ('2q7v_A', 148, 184, 'FYKGKKVVVIGGGDAAVEEGMFLTKFADEVTVIHRR'),\n",
       " ('2qa1_A', 8, 45, 'RSDAAVIVVGAGPAGMMLAGELRLAGVEVVVLERLVE'),\n",
       " ('2qa2_A', 9, 46, 'RSDASVIVVGAGPAGLMLAGELRLGGVDVMVLEQLPQ'),\n",
       " ('2qae_A', 1, 35, 'PYDVVVIGGGPGGYVASIKAAQLGMKTACVEKRG'),\n",
       " ('2qcu_A', 1, 37, 'ETKDLIVIGGGINGAGIAADAAGRGLSVLMLEAQDL'),\n",
       " ('2qhx_A', 42, 79, 'APTVPVALVTGAAKRLGRSIAEGLHAEGYAVCLHYHR'),\n",
       " ('2qio_A', 2, 41, 'LLQGKTFVVMGVANQRSIAWGIARSLHNAGAKLIFTYAG'),\n",
       " ('2qk4_A', 20, 58, 'QSMAARVLIIGSGGREHTLAWKLAQSHHVKQVLVAPGN'),\n",
       " ('2qm3_A', 170, 206, 'LENKDIFVLGDDDLTSIALMLSGLPKRIAVLDIDER'),\n",
       " ('2qq5_A', 1, 38, 'PMNGQVCVVTGASRGIGRGIALQLCKAGATVYITGRH'),\n",
       " ('2qrv_A', 13, 50, 'RKPIRVLSLFDGIATGLLVLKDLGIQVDRYIASEVCE'),\n",
       " ('2qw8_A', 3, 41, 'NGMKSKILIFGGTGYIGNHMVKGSLKLGHPTYVFTRPN'),\n",
       " ('2qy6_A', 58, 107, 'HPLFVVAESGFGTGLNFLTLWQAFDQFREAHPQAQLQRLHFISFEKFPL'),\n",
       " ('2qyo_A', 191, 228, 'EGLESIVDVGGGNGTTGKIICETFPKLTCVVFDRPKV'),\n",
       " ('2qyt_A', 4, 46, 'NQQPIKIAVFGLGGVGGYYGAMLALRAAATDGLLEVSWIARG'),\n",
       " ('2qz9_A', 1, 41, 'QQFNVAIFGATGAVGETMLEVLQEREFPVDELFLLASERS'),\n",
       " ('2r0c_A', 23, 60, 'PIETDVLILGGGPVGMALALDLAHRQVGHLVVEQTDG'),\n",
       " ('2r3s_A', 162, 200, 'KIEPLKVLDISASHGLFGIAVAQHNPNAEIFGVDWASV'),\n",
       " ('2r6r_1', 6, 44, 'PCKIKVIGVGGGGSNAVNRMYEDGIEGVELYAINTDVQ'),\n",
       " ('2r6z_A', 81, 116, 'TAHPTVWDATAGLGRDSFVLASLGLTVTAFEQHPA'),\n",
       " ('2r7k_A', 16, 50, 'DEITIATLGSHTSLHILKGAKLEGFSTVCITMKG'),\n",
       " ('2r84_A', 1, 34, 'KVRIATYASHSALQILKGAKDEGFETIAFGSSK'),\n",
       " ('2r9z_A', 1, 37, 'TQHFDLIAIGGGSGGLAVAEKAAAFGKRVALIESKA'),\n",
       " ('2r9z_A', 163, 200, 'QQPKRVAIIGAGYIGIELAGLLRSFGSEVTVVALEDR'),\n",
       " ('2raf_A', 55, 92, 'TLGEIVIMAVPYPALAALAKQYATQLKGKIVVDITNP'),\n",
       " ('2rcy_A', 1, 40, 'MENIKLGFMGLGQMGSALAHGIANANIIKKENLFYYGPS'),\n",
       " ('2rgh_A', 29, 66, 'QEELDLLIIGGGITGAGVAVQAAASGIKTGLIEMQDF'),\n",
       " ('2rgj_A', 1, 37, 'SEPIDILIAGAGIGGLSCALALHQAGIGKVTLLESS'),\n",
       " ('2rgw_A', 147, 187, 'RIDGIKIAFVGDLKYGRTVHSLVYALSLFENVEMYFVSPK'),\n",
       " ('2rh8_A', 5, 43, 'PIGKKTACVVGGTGFVASLLVKLLLQKGYAVNTTVRDP'),\n",
       " ('2rhh_A', 1, 38, 'ASIKVIGVGGGGNNAVNRMIENEVQGVEYIAVNTDAQ'),\n",
       " ('2rir_A', 3, 39, 'MLTGLKIAVIGGDARQLEIIRKLTEQQADIYLVGFD'),\n",
       " ('2rir_A', 153, 190, 'TIHGSQVAVLGLGRTGMTIARTFAALGANVKVGARSS'),\n",
       " ('2uvd_A', 1, 37, 'LKGKVALVTGASRGIGRAIAIDLAKQGANVVVNYAG'),\n",
       " ('2uyy_A', 26, 62, 'TPTDKKIGFLGLGLMGSGIVSNLLKMGHTVTVWNRT'),\n",
       " ('2uzz_A', 1, 36, 'KYDLIIIGSGSVGAAAGYYATRAGLNVLMTDAHMP'),\n",
       " ('2v3a_A', 1, 38, 'SERAPLVIIGTGLAGYNLAREWRKLDGETPLLMITAD'),\n",
       " ('2v65_A', 16, 55, 'VGSRSKVTVVGVGMVGMASAISILLKDLCDELAMVDVME'),\n",
       " ('2v6b_A', 1, 35, 'KVGVVGTGFVGSTAAFALVLRGSCSELVLVDRDE'),\n",
       " ('2v6f_A', 1, 41, 'SVALIVGVTGIIGNSLAEILPLADTPGGPWKVYGVARRTR'),\n",
       " ('2v6o_A', 104, 141, 'KYDYDLIVIGGGSGGLAAGKEAAKYGAKTAVLDYVEP'),\n",
       " ('2v6o_A', 283, 320, 'YFPGKTLVIGASYVALECAGFLASLGGDVTVMVRSIL'),\n",
       " ('2v74_B', 39, 75, 'FKDKIVLDVGCGSGILSFFAAQAGARKIYAVEASTM'),\n",
       " ('2vam_A', 10, 48, 'LASIKVIGVGGGGNNAVNRMIENEVQGVEYIAVNTDAQ'),\n",
       " ('2vaw_A', 10, 48, 'TAVIKVIGVGGGGGNAVNHMAKNNVEGVEFICANTDAQ'),\n",
       " ('2vdu_E', 55, 92, 'TKKVTIADIGCGFGGLMIDLSPAFPEDLILGMEIRVQ'),\n",
       " ('2vdw_A', 46, 82, 'SNKRKVLAIDFGNGADLEKYFYGEIALLVATDPDAD'),\n",
       " ('2vhv_A', 164, 201, 'GVEPADVVVIGAGTAGYNAARIANGMGATVTVLDINI'),\n",
       " ('2vn8_A', 180, 218, 'NCTGKRVLILGASGGVGTFAIQVMKAWDAHVTAVCSQD'),\n",
       " ('2vna_A', 152, 190, 'AGSNKTMVVSGAAGACGSVAGQIGHFLGCSRVVGICGT'),\n",
       " ('2vns_A', 24, 60, 'PDEAPKVGILGSGDFARSLATRLVGSGFKVVVGSRN'),\n",
       " ('2vou_A', 2, 39, 'PTTDRIAVVGGSISGLTAALMLRDAGVDVDVYERSPQ'),\n",
       " ('2vpq_A', 1, 33, 'KKVLIANRGEIAVRIIRACRDLGIQTVAIYSE'),\n",
       " ('2vq7_A', 4, 47, 'SMATRIAILGAGPSGMAQLRAFQSAQEKGAEIPELVCFEKQAD'),\n",
       " ('2vq7_A', 198, 235, 'EFKDKTVLLVGSSYSAEDIGSQCYKYGAKKLISCYRT'),\n",
       " ('2vt2_A', 143, 180, 'KDESVAILTVPAVAAQSITDRLVALGIKGILNFTPAR'),\n",
       " ('2vvl_A', 35, 71, 'KDGPWDVIVIGGGYCGLTATRDLTVAGFKTLLLEAR'),\n",
       " ('2vyn_D', 1, 34, 'VKVGINGFGRIGRLVLRVCMEKGVRVVAVNDPF'),\n",
       " ('2w2k_A', 159, 196, 'NPRGHVLGAVGLGAIQKEIARKAVHGLGMKLVYYDVA'),\n",
       " ('2w37_A', 172, 210, 'KLQGLTLTFMGDGRNNVANSLLVTGAILGVNIHIVAPK'),\n",
       " ('2w8z_A', 1, 36, 'MAKHQIGVIGLAVMGKNLALNIESKGYSVAVYNRL'),\n",
       " ('2wa1_A', 80, 117, 'ELKGTVVDLGCGRGSWSYYAASQPNVREVKAYTLGTS'),\n",
       " ('2wba_A', 1, 39, 'SKAFDLVVIGAGSGGLEAGWNAATLYGKRVAVVDVQTS'),\n",
       " ('2wba_A', 184, 223, 'PEPPRRVLTVGGGFISVEFAGIFNAYKPPGGKVTLCYRN'),\n",
       " ('2wdz_A', 7, 45, 'RLDGACAAVTGAGSGIGLEICRAFAASGARLILIDREA'),\n",
       " ('2we7_A', 200, 236, 'YAPRPRMLVFGAIDFAAAVAQQGAFLGYRVTVCDAR'),\n",
       " ('2wes_A', 1, 37, 'IRSVVIVGGGTAGWMTASYLKAAFDDRIDVTLVESG')]"
      ]
     },
     "execution_count": 119,
     "metadata": {},
     "output_type": "execute_result"
    }
   ],
   "source": [
    "import pickle\n",
    "d = pickle.load(open('/home/kszczepaniak/Data/Rossmann/rossman_core_positives_v5.p', 'rb'))\n",
    "d[670:800]"
   ]
  },
  {
   "cell_type": "markdown",
   "metadata": {},
   "source": [
    "ARCH\n",
    "==="
   ]
  },
  {
   "cell_type": "code",
   "execution_count": 8,
   "metadata": {},
   "outputs": [
    {
     "name": "stdout",
     "output_type": "stream",
     "text": [
      "('1a27_A', 1, 41, 'RTVVLITGCSSGIGLHLAVRLASDPSQSFKVYATLRDLKT')\n"
     ]
    },
    {
     "ename": "NameError",
     "evalue": "name 'get_sequence_biopython' is not defined",
     "output_type": "error",
     "traceback": [
      "\u001b[0;31m---------------------------------------------------------------------------\u001b[0m",
      "\u001b[0;31mNameError\u001b[0m                                 Traceback (most recent call last)",
      "\u001b[0;32m<ipython-input-8-af8521ad30bd>\u001b[0m in \u001b[0;36m<module>\u001b[0;34m()\u001b[0m\n\u001b[1;32m     23\u001b[0m \u001b[0;31m# load seq from structure\u001b[0m\u001b[0;34m\u001b[0m\u001b[0;34m\u001b[0m\u001b[0m\n\u001b[1;32m     24\u001b[0m \u001b[0;34m\u001b[0m\u001b[0m\n\u001b[0;32m---> 25\u001b[0;31m \u001b[0mseq2\u001b[0m \u001b[0;34m=\u001b[0m \u001b[0mget_sequence_biopython\u001b[0m\u001b[0;34m(\u001b[0m\u001b[0mpdb_db_path\u001b[0m \u001b[0;34m+\u001b[0m \u001b[0mpdb_id\u001b[0m\u001b[0;34m[\u001b[0m\u001b[0;36m1\u001b[0m\u001b[0;34m:\u001b[0m\u001b[0;36m3\u001b[0m\u001b[0;34m]\u001b[0m \u001b[0;34m+\u001b[0m \u001b[0;34m'/'\u001b[0m \u001b[0;34m+\u001b[0m \u001b[0mpdb_id\u001b[0m\u001b[0;34m[\u001b[0m\u001b[0;34m:\u001b[0m\u001b[0;36m4\u001b[0m\u001b[0;34m]\u001b[0m \u001b[0;34m+\u001b[0m \u001b[0;34m'.pdb1'\u001b[0m\u001b[0;34m,\u001b[0m \u001b[0mpdb_id\u001b[0m\u001b[0;34m)\u001b[0m\u001b[0;34m\u001b[0m\u001b[0m\n\u001b[0m\u001b[1;32m     26\u001b[0m \u001b[0;34m\u001b[0m\u001b[0m\n\u001b[1;32m     27\u001b[0m \u001b[0mprint\u001b[0m\u001b[0;34m(\u001b[0m\u001b[0mseq1\u001b[0m\u001b[0;34m)\u001b[0m\u001b[0;34m\u001b[0m\u001b[0m\n",
      "\u001b[0;31mNameError\u001b[0m: name 'get_sequence_biopython' is not defined"
     ]
    }
   ],
   "source": [
    "from Bio import pairwise2\n",
    "from Bio.SeqRecord import SeqRecord\n",
    "from Bio.Alphabet import IUPAC\n",
    "from Bio.Seq import Seq\n",
    "from Bio.SubsMat import MatrixInfo as matlist\n",
    "import numpy as np\n",
    "\n",
    "# get sequence from Rossmann file\n",
    "\n",
    "import pickle, re\n",
    "d = pickle.load(open('/home/kszczepaniak/Data/Rossmann/rossman_core_positives_v5.p', 'rb'))\n",
    "\n",
    "did = 1\n",
    "MAX_GAPS = 0.2\n",
    "\n",
    "print(d[did])\n",
    "\n",
    "seq1 = d[did][3]\n",
    "\n",
    "# find structure\n",
    "\n",
    "pdb_id = d[did][0]\n",
    "# load seq from structure\n",
    "\n",
    "seq2 = get_sequence_biopython(pdb_db_path + pdb_id[1:3] + '/' + pdb_id[:4] + '.pdb1', pdb_id)\n",
    "\n",
    "print(seq1)\n",
    "print(seq2)\n",
    "\n",
    "SeqIO.write(SeqRecord(Seq(seq1, IUPAC.protein), 'seq1', 's1', 's1'), 'seq1.fas', 'fasta')\n",
    "SeqIO.write(SeqRecord(seq2, 'seq2', 's2', 's2'), 'seq2.fas', 'fasta')\n",
    "\n",
    "# alignments = pairwise2.align.globalxx(seq_ros[3], seq)\n",
    "# print(pairwise2.format_alignment(*alignments[0]))\n",
    "\n",
    "print()\n",
    "aln = sorted(pairwise2.align.localdd(seq2, seq1, matlist.blosum62, -1000, -1000, -1, 0), key=lambda i:i[2])[0]\n",
    "print(aln)\n",
    "\n",
    "# find start and end positions of aligned match\n",
    "i = re.search('[^-]', aln[1]).start()\n",
    "print(i)\n",
    "j = re.search('[^-]', aln[1][::-1]).start()\n",
    "print(j)\n",
    "j = len(aln[1])-j\n",
    "print(j)\n",
    "\n",
    "# there should be no gaps in the seqres sequence\n",
    "assert aln[0].find('-') == -1\n",
    "\n",
    "x=np.asarray(list(aln[0][i:j]))\n",
    "y=np.asarray(list(aln[1][i:j]))\n",
    "pos = (y!='-') & (y!='X')\n",
    "\n",
    "print(pos)\n",
    "\n",
    "# assure that all aligned residues pairs are equal\n",
    "if all(x[pos] == y[pos]):  \n",
    "\n",
    "    # reject sequences with too many gaps\n",
    "    if 1.*aln[1][i:j].count('-')/len(aln[1][i:j]) < MAX_GAPS:                            \n",
    "        temp = i\n",
    "        seq = aln[0][i:j]\n",
    "    else:\n",
    "        #if pdb=='2wic_A': \n",
    "        #    print(aln[1][i:j])\n",
    "        #    print(aln[0][i:j])\n",
    "        #    sys.exit(-1)\n",
    "        reason=\"too many gaps in the aln\"\n",
    "\n",
    "# from Bio.Blast.Applications import NcbiblastpCommandline \n",
    "# print(NcbiblastnCommandline(version=1)())\n",
    "# blast_cline = NcbiblastpCommandline(query='seq1.fas', subject='seq2.fas', evalue=1, outfmt=6)()[0]\n",
    "# print(blast_cline)"
   ]
  },
  {
   "cell_type": "code",
   "execution_count": null,
   "metadata": {},
   "outputs": [],
   "source": [
    "# there is no \"X\" in the sequences OR there is one more more \"X\" that couldn't be fixed\n",
    "#else:\n",
    "if temp==-1:\n",
    "\n",
    "    # -1000 and -1000 are gap opening end extension penalties for seqres\n",
    "    # -1 and 0 for seq (was -10 but caused problems at the sequence ends)\n",
    "\n",
    "    if seqres.find('U') == -1:\n",
    "\n",
    "        aln = sorted(pairwise2.align.localdd(seqres, seq, matlist.blosum62, -1000, -1000, -1, 0), key=lambda i:i[2])[0]\n",
    "\n",
    "        # find start and end positions of aligned match\n",
    "        i = re.search('[^-]', aln[1]).start()\n",
    "        j = re.search('[^-]', aln[1][::-1]).start()\n",
    "        j = len(aln[1])-j\n",
    "\n",
    "        # there should be no gaps in the seqres sequence\n",
    "        assert aln[0].find('-') == -1\n",
    "\n",
    "        x=np.asarray(list(aln[0][i:j]))\n",
    "        y=np.asarray(list(aln[1][i:j]))\n",
    "        pos = (y!='-') & (y!='X')\n",
    "\n",
    "        # assure that all aligned residues pairs are equal\n",
    "        if all(x[pos] == y[pos]):  \n",
    "\n",
    "            # reject sequences with too many gaps\n",
    "            if 1.*aln[1][i:j].count('-')/len(aln[1][i:j]) < MAX_GAPS:                            \n",
    "                temp = i\n",
    "                seq = aln[0][i:j]\n",
    "            else:\n",
    "                #if pdb=='2wic_A': \n",
    "                #    print(aln[1][i:j])\n",
    "                #    print(aln[0][i:j])\n",
    "                #    sys.exit(-1)\n",
    "                reason=\"too many gaps in the aln\"\n",
    "\n",
    "    else:\n",
    "            reason=\"sequence contains 'U'\""
   ]
  }
 ],
 "metadata": {
  "kernelspec": {
   "display_name": "Python 3",
   "language": "python",
   "name": "python3"
  },
  "language_info": {
   "codemirror_mode": {
    "name": "ipython",
    "version": 3
   },
   "file_extension": ".py",
   "mimetype": "text/x-python",
   "name": "python",
   "nbconvert_exporter": "python",
   "pygments_lexer": "ipython3",
   "version": "3.5.2"
  }
 },
 "nbformat": 4,
 "nbformat_minor": 2
}
